{
 "cells": [
  {
   "cell_type": "markdown",
   "id": "CCagfetdzvlW",
   "metadata": {
    "id": "CCagfetdzvlW"
   },
   "source": [
    "# Data Mining & Machine Learning - Final Project\n",
    "## Rotten Fruit Classfication"
   ]
  },
  {
   "cell_type": "markdown",
   "id": "BNsneaRU4NhA",
   "metadata": {
    "id": "BNsneaRU4NhA"
   },
   "source": [
    "##Imports & Data load"
   ]
  },
  {
   "cell_type": "code",
   "execution_count": null,
   "id": "Ge3hgdu6LsSS",
   "metadata": {
    "id": "Ge3hgdu6LsSS"
   },
   "outputs": [],
   "source": [
    "# Import the required Libraries\n",
    "import numpy as np\n",
    "import pandas as pd\n",
    "import os\n",
    "import cv2\n",
    "from tqdm import tqdm\n",
    "from random import shuffle\n",
    "from sklearn.preprocessing import LabelEncoder\n",
    "from numpy import expand_dims\n",
    "from keras.preprocessing.image import load_img, img_to_array, array_to_img, ImageDataGenerator\n",
    "import sys\n",
    "import sklearn\n",
    "from sklearn.model_selection import train_test_split\n",
    "import tensorflow as tf\n",
    "from tensorflow import keras\n",
    "import matplotlib as mpl\n",
    "import matplotlib.pyplot as plt\n",
    "import seaborn as sns\n",
    "from sklearn.decomposition import PCA\n",
    "import math\n",
    "import re\n",
    "from PIL import Image\n",
    "import imagehash"
   ]
  },
  {
   "cell_type": "code",
   "execution_count": null,
   "id": "kSMkXYNcLtZ7",
   "metadata": {
    "colab": {
     "base_uri": "https://localhost:8080/"
    },
    "id": "kSMkXYNcLtZ7",
    "outputId": "2a60cd41-dfaf-4915-e544-f6883438b656"
   },
   "outputs": [],
   "source": [
    "# We will use google colab to run our code\n",
    "# We use drive.mount to read and write from the local drive\n",
    "\n",
    "from google.colab import drive\n",
    "drive.mount('/content/drive')\n"
   ]
  },
  {
   "cell_type": "code",
   "execution_count": null,
   "id": "l1WTGDBrTUbJ",
   "metadata": {
    "id": "l1WTGDBrTUbJ"
   },
   "outputs": [],
   "source": [
    "# Data loader with list output\n",
    "def load_labeled_fruits_data(path):\n",
    "  '''\n",
    "  This function takes a path of a dataset of images as input and returns three outputs:\n",
    "  1) the images 2) the labels 3) the name of the image_file\n",
    "  '''\n",
    "  X,Y,img_names=[],[],[] \n",
    "  z=[]\n",
    "  np.random.seed(42)\n",
    "  for cata in tqdm(os.listdir(path)): # go through the folders within the file path \n",
    "      path_main=os.path.join(path,cata)\n",
    "      for img_name in os.listdir(path_main): # go through the files within the folder\n",
    "        img=cv2.imread(os.path.join(path_main,img_name))\n",
    "        img=cv2.cvtColor(img,cv2.COLOR_BGR2RGB)\n",
    "        z.append([img, cata, img_name]) # store image, folder_name and image_file_name\n",
    "  print('Shuffling your data.....')\n",
    "  shuffle(z)\n",
    "  for images, labels, img_name in tqdm(z): # folder_name will be the label \n",
    "    X.append(images);Y.append(labels);img_names.append(img_name)\n",
    "  return X,Y,img_names"
   ]
  },
  {
   "cell_type": "code",
   "execution_count": null,
   "id": "rX5N-XOLm5xF",
   "metadata": {
    "colab": {
     "base_uri": "https://localhost:8080/"
    },
    "id": "rX5N-XOLm5xF",
    "outputId": "b958f5ca-be3f-4e66-c280-c081ba3d42ce"
   },
   "outputs": [],
   "source": [
    "# The DMML_Project Folder is available with the following link:\n",
    "# https://drive.google.com/drive/folders/1iyMlsS_q1w8iVuEvoK77muTG9p1ihE9V?usp=sharing\n",
    "\n",
    "# Load Kaggle data\n",
    "X_k,Y_k,Z_k = load_labeled_fruits_data('/content/drive/My Drive/DMML_Project/Kaggle_Fruits_Data')\n",
    "# The original data is available here: \n",
    "# https://www.kaggle.com/datasets/sriramr/fruits-fresh-and-rotten-for-classification\n",
    "\n",
    "# Load Fruitnet data\n",
    "X_f,Y_f,Z_f = load_labeled_fruits_data('/content/drive/My Drive/DMML_Project/FruitNet_Data')\n",
    "# the DMML Project Folder contains most of the Fruitnet Data.\n",
    "# The fruitnet data is available here: https://data.mendeley.com/datasets/b6fftwbr2v/2\n",
    "# All images but the ones of pomegranates were used. We decided not to use pomegranates \n",
    "# as this data set was preaugmented in a visually different way than the other fruits."
   ]
  },
  {
   "cell_type": "markdown",
   "id": "Q6dGF9y5RsY1",
   "metadata": {
    "id": "Q6dGF9y5RsY1"
   },
   "source": [
    "## Exploratory Analysis"
   ]
  },
  {
   "cell_type": "code",
   "execution_count": null,
   "id": "v34ZIXvGPZF0",
   "metadata": {
    "id": "v34ZIXvGPZF0"
   },
   "outputs": [],
   "source": [
    "def check_amounts(input_list):\n",
    "  '''\n",
    "  This function takes a list of fruit_labels as input and will return their counts\n",
    "  '''\n",
    "  for i in range(len(np.unique(np.array(input_list)))):\n",
    "    print(\"Amount of fruits in dataset classified as '\" \\\n",
    "        + str(np.unique(np.array(input_list), return_counts=True)[0][i]) + \"': \" \\\n",
    "        + str(np.unique(np.array(input_list), return_counts=True)[1][i]) + \" (\"  \\\n",
    "        + str(round(np.unique(np.array(input_list), return_counts=True)[1][i]/len(input_list)*100,2)) + \"%)\")\n",
    "  print(\"\")\n",
    "  print(\"Total amount of pictures from dataset: \" + str(len(input_list)))"
   ]
  },
  {
   "cell_type": "code",
   "execution_count": null,
   "id": "Rla2dWc5Pq5H",
   "metadata": {
    "colab": {
     "base_uri": "https://localhost:8080/"
    },
    "id": "Rla2dWc5Pq5H",
    "outputId": "700c4d87-82b9-4b0a-b56b-a1202e5dbcec"
   },
   "outputs": [],
   "source": [
    "# Print amount of instances in subcategories\n",
    "print(\"Kaggle dataset:\")\n",
    "check_amounts(Y_k)\n",
    "print(\"\")\n",
    "print(\"\")\n",
    "print(\"Fruitnet dataset:\")\n",
    "check_amounts(Y_f)"
   ]
  },
  {
   "cell_type": "code",
   "execution_count": null,
   "id": "HkDcqlV6yJbE",
   "metadata": {
    "id": "HkDcqlV6yJbE"
   },
   "outputs": [],
   "source": [
    "def fruit_quality_count(fruits,quality):\n",
    "  '''\n",
    "  This function takes a fruit labels and correspondeing quality labels as input and returns the count of type of fruits and quality of fruits\n",
    "  '''\n",
    "  for i in range(len(np.unique(np.array(fruits)))):\n",
    "    print(\"Total amount of \" + str(np.unique(np.array(fruits), return_counts=True)[0][i]) + \"s: \" \\\n",
    "        + str(np.unique(np.array(fruits), return_counts=True)[1][i]) + \" (\"  \\\n",
    "        + str(round(np.unique(np.array(fruits), return_counts=True)[1][i]/len(fruits)*100,2)) + \"%)\")\n",
    "  print(\"\")\n",
    "  for i in range(len(np.unique(np.array(quality)))):\n",
    "    print(\"Total amount of fruits declared as '\" + str(np.unique(np.array(quality), return_counts=True)[0][i]) + \"': \" \\\n",
    "        + str(np.unique(np.array(quality), return_counts=True)[1][i]) + \" (\"  \\\n",
    "        + str(round(np.unique(np.array(quality), return_counts=True)[1][i]/len(quality)*100,2)) + \"%)\")\n"
   ]
  },
  {
   "cell_type": "code",
   "execution_count": null,
   "id": "pwnC6RNKSQfH",
   "metadata": {
    "colab": {
     "base_uri": "https://localhost:8080/"
    },
    "id": "pwnC6RNKSQfH",
    "outputId": "c871f32d-17f5-47f3-ce54-9f5fc81c7851"
   },
   "outputs": [],
   "source": [
    "# Print amount of images in high level categories\n",
    "fruits = [label.split(\"_\")[0] for label in Y_k] + [label.split(\"_\")[0] for label in Y_f]\n",
    "quality = [label.split(\"_\")[1] for label in Y_k] + [label.split(\"_\")[1] for label in Y_f]\n",
    "\n",
    "fruit_quality_count(fruits,quality)"
   ]
  },
  {
   "cell_type": "code",
   "execution_count": null,
   "id": "6GGNKtH1gBkp",
   "metadata": {
    "id": "6GGNKtH1gBkp"
   },
   "outputs": [],
   "source": [
    "def fruitlist_generator(X,Y,catList,L):\n",
    "  '''\n",
    "  Creates a list with length L of fruit from the given categories\n",
    "  '''\n",
    "  images = []\n",
    "  labels = []\n",
    "  x = L//len(catList)\n",
    "  temp = pd.DataFrame({\"data\":X,\"label\":Y})\n",
    "  for cat in catList:\n",
    "    filtered = temp[temp[\"label\"].str.contains(cat)]\n",
    "    filtered.sample(frac=1)\n",
    "    images = images + filtered[\"data\"].values.tolist()[:x]\n",
    "    labels = labels + filtered[\"label\"].values.tolist()[:x]\n",
    "  return images, labels"
   ]
  },
  {
   "cell_type": "code",
   "execution_count": null,
   "id": "-KnKOiy1BLcy",
   "metadata": {
    "id": "-KnKOiy1BLcy"
   },
   "outputs": [],
   "source": [
    "def show_subplot(X,Y=None):\n",
    "  '''\n",
    "  creates a plot of 6x6 images\n",
    "  '''\n",
    "  f, ax= plt.subplots(6,6, figsize=(40,60))\n",
    "  for i,img in enumerate(X[:36]):\n",
    "    ax[i//6][i%6].imshow(img, aspect='auto')\n",
    "    ax[i//6][i%6].set_axis_off()\n",
    "    if isinstance(Y,np.ndarray) or isinstance(Y,list) and len(Y) == len(X):\n",
    "      ax[i//6][i%6].set_title(Y[i], fontsize=28)\n",
    "  plt.show()"
   ]
  },
  {
   "cell_type": "code",
   "execution_count": null,
   "id": "I6r1twq3gFOi",
   "metadata": {
    "id": "I6r1twq3gFOi"
   },
   "outputs": [],
   "source": [
    "# Generate Fruitlist ...\n",
    "\n",
    "# ... for Kaggle dataset\n",
    "plot_X_k,plot_Y_k  = fruitlist_generator(X_k,Y_k,[\"Apple_Fresh\",\"Apple_Rotten\",\"Banana_Fresh\",\"Banana_Rotten\",\"Orange_Fresh\",\"Orange_Rotten\"],36)\n",
    "\n",
    "# ... for FruitNet dataset\n",
    "plot_X_f,plot_Y_f  = fruitlist_generator(X_f,Y_f,[\"Apple_Fresh\",\"Apple_Rotten\",\"Banana_Fresh\",\"Banana_Rotten\",\"Orange_Fresh\",\"Orange_Rotten\",\"Guava_Fresh\",\"Guava_Rotten\",\"Lime_Fresh\",\"Lime_Rotten\"],60)"
   ]
  },
  {
   "cell_type": "code",
   "execution_count": null,
   "id": "OeqqyKcZBiKd",
   "metadata": {
    "colab": {
     "base_uri": "https://localhost:8080/",
     "height": 1000
    },
    "id": "OeqqyKcZBiKd",
    "outputId": "c9a5686f-de7f-4532-e695-93332255e4d3"
   },
   "outputs": [],
   "source": [
    "# Kaggle sample images plot by categories\n",
    "show_subplot(plot_X_k,plot_Y_k)"
   ]
  },
  {
   "cell_type": "code",
   "execution_count": null,
   "id": "a9e1ABQ5S1IT",
   "metadata": {
    "id": "a9e1ABQ5S1IT"
   },
   "outputs": [],
   "source": [
    "#We can see that quite some of the images are already augmented."
   ]
  },
  {
   "cell_type": "code",
   "execution_count": null,
   "id": "O7ElxZFehEon",
   "metadata": {
    "colab": {
     "base_uri": "https://localhost:8080/"
    },
    "id": "O7ElxZFehEon",
    "outputId": "d05c59c2-cbbf-4c61-d260-f75d2aa9d1c0"
   },
   "outputs": [],
   "source": [
    "# Look at unique file names in Kaggle dataset\n",
    "beginning = np.array([])\n",
    "for file_name in Z_k:\n",
    "  beginning = np.append(beginning, re.search(r\"[a-z]*\", file_name, re.IGNORECASE).group())\n",
    "print(np.unique(beginning))\n",
    "\n",
    "\n",
    "#We see that the augmented pictures we identified in the subplot above have 'rotated', 'saltandpepper', 'translation' or 'vertical' as beginning of their name\n",
    "#We will use this information later on to drop out the augmented Versions in order to augment the images ourselves\n",
    "# Unaugmented images start with \"Screen\" (\"Screen_shot\" but only all characters of the beginning until the first character that is not a letter are printed)"
   ]
  },
  {
   "cell_type": "code",
   "execution_count": null,
   "id": "KW7wTk023OgJ",
   "metadata": {
    "id": "KW7wTk023OgJ"
   },
   "outputs": [],
   "source": [
    "def show_subplot_60(X,Y=None):\n",
    "  '''\n",
    "  creates a plot of 6x6 images\n",
    "  '''\n",
    "  f, ax= plt.subplots(10,6, figsize=(40,60))\n",
    "  for i,img in enumerate(X[:60]):\n",
    "    ax[i//6][i%6].imshow(img, aspect='auto')\n",
    "    ax[i//6][i%6].set_axis_off()\n",
    "    if isinstance(Y,np.ndarray) or isinstance(Y,list) and len(Y) == len(X):\n",
    "      ax[i//6][i%6].set_title(Y[i], fontsize=28)\n",
    "  plt.show()"
   ]
  },
  {
   "cell_type": "code",
   "execution_count": null,
   "id": "ku5IfDDY0JFK",
   "metadata": {
    "colab": {
     "base_uri": "https://localhost:8080/",
     "height": 1000
    },
    "id": "ku5IfDDY0JFK",
    "outputId": "49e0fe8d-3065-4fdf-fb1e-3adf14c2fcaa"
   },
   "outputs": [],
   "source": [
    "# FruitNet image plot by categories\n",
    "show_subplot_60(plot_X_f,plot_Y_f)"
   ]
  },
  {
   "cell_type": "code",
   "execution_count": null,
   "id": "Yh9XuAgF5m1Y",
   "metadata": {
    "colab": {
     "base_uri": "https://localhost:8080/",
     "height": 533
    },
    "id": "Yh9XuAgF5m1Y",
    "outputId": "777d47b9-c9d8-45bf-a2d8-5177a57da615"
   },
   "outputs": [],
   "source": [
    "# Now we print one sample of a (supposed) augmented image\n",
    "\n",
    "augmented = []\n",
    "augmented_label = []\n",
    "for i in range(len(Z_k)):\n",
    "  if \"Screen Shot 2018-06-08 at 5.00.50 PM\" in Z_k[i]:\n",
    "    augmented.append(X_k[i])\n",
    "    augmented_label.append(Y_k[i])\n",
    "def show_subplot(X,Y=None):\n",
    "        f, ax= plt.subplots(2,4, figsize=(40,20))\n",
    "        for i,img in enumerate(X[:8]):\n",
    "            ax[i//4][i%4].imshow(img, aspect='auto')\n",
    "            ax[i//4][i%4].set_axis_off()\n",
    "            if isinstance(Y,np.ndarray) or isinstance(Y,list) and len(Y) == len(X):\n",
    "                ax[i//4][i%4].set_title(Y[i], fontsize=28)\n",
    "        plt.show()\n",
    "show_subplot(augmented, augmented_label)"
   ]
  },
  {
   "cell_type": "code",
   "execution_count": null,
   "id": "9cQ_F5KrYH2-",
   "metadata": {
    "id": "9cQ_F5KrYH2-"
   },
   "outputs": [],
   "source": [
    "def size_aspect_ratio_scatter(X, Y):\n",
    "  '''\n",
    "  Creates a scatterplot that plots square root size vs aspect ratio\n",
    "  values are colored by the given label\n",
    "  '''\n",
    "  size = [math.sqrt(len(img)*len(img[0])) for img in X]\n",
    "  aspect_ratio = [len(img)/len(img[0]) for img in X]\n",
    "  df = pd.DataFrame({'size': size, 'aspect ratio': aspect_ratio, 'label':Y})\n",
    "  sns.scatterplot('size', 'aspect ratio', data=df, hue='label')\n",
    "  plt.show()\n",
    "  return"
   ]
  },
  {
   "cell_type": "code",
   "execution_count": null,
   "id": "D8DkAx9icg0v",
   "metadata": {
    "id": "D8DkAx9icg0v"
   },
   "outputs": [],
   "source": [
    "def darken_color(color, amount=0.5):\n",
    "    import matplotlib.colors as mc\n",
    "    import colorsys\n",
    "    try:\n",
    "        c = mc.cnames[color]\n",
    "    except:\n",
    "        c = color\n",
    "    c = colorsys.rgb_to_hls(*mc.to_rgb(c))\n",
    "    return colorsys.hls_to_rgb(c[0], 1 - amount * (1 - c[1]), c[2])\n",
    "\n",
    "def average_RGB_boxplot(X, Y):\n",
    "  avg_RGB = [np.mean(img) for img in tqdm(X)]\n",
    "  print(len(avg_RGB))\n",
    "  df = pd.DataFrame({'average RGB value':avg_RGB, 'label':Y})\n",
    "  sns.boxplot(x='label', y='average RGB value', data=df, order=[\"Apple_Fresh\",\"Apple_Rotten\",\"Banana_Fresh\",\"Banana_Rotten\",\"Guava_Fresh\",\"Guava_Rotten\",\"Lime_Fresh\",\"Lime_Rotten\",\"Orange_Fresh\",\"Orange_Rotten\"], palette=['red', darken_color('red',1.2), 'yellow', darken_color('yellow',1.2), 'green', darken_color(\"green\",1.1), 'lightgreen', darken_color(\"lightgreen\",1.6), 'orange', darken_color(\"orange\",1.2)])\n",
    "  plt.xticks(rotation=340,ha=\"left\")\n",
    "  plt.savefig('/content/drive/My Drive/DMML_Project/foo.png', bbox_inches='tight')\n",
    "  plt.show()"
   ]
  },
  {
   "cell_type": "code",
   "execution_count": null,
   "id": "ELhcXsykf9Oi",
   "metadata": {
    "id": "ELhcXsykf9Oi"
   },
   "outputs": [],
   "source": [
    "# Create joined dataset for general anaylsis purposes\n",
    "X_joined = X_k + X_f\n",
    "Y_joined = Y_k + Y_f\n",
    "quality_labels = [label.split(\"_\")[1] for label in Y_joined]"
   ]
  },
  {
   "cell_type": "code",
   "execution_count": null,
   "id": "QXFOzHNcf99T",
   "metadata": {
    "colab": {
     "base_uri": "https://localhost:8080/",
     "height": 336
    },
    "id": "QXFOzHNcf99T",
    "outputId": "d9c7244b-7575-4bb0-9c7a-888c894f4b8b"
   },
   "outputs": [],
   "source": [
    "# Plot size against aspect ratio of all pictures\n",
    "size_aspect_ratio_scatter(X_joined, quality_labels)"
   ]
  },
  {
   "cell_type": "code",
   "execution_count": null,
   "id": "NF8Hasps_5iV",
   "metadata": {
    "colab": {
     "base_uri": "https://localhost:8080/",
     "height": 344
    },
    "id": "NF8Hasps_5iV",
    "outputId": "740ffd4a-b063-47ef-ba22-054d00531d1c"
   },
   "outputs": [],
   "source": [
    "# Boxplot of average RGB values\n",
    "average_RGB_boxplot(X_joined,Y_joined)"
   ]
  },
  {
   "cell_type": "code",
   "execution_count": null,
   "id": "LfbY9L6NAl5p",
   "metadata": {
    "colab": {
     "base_uri": "https://localhost:8080/",
     "height": 279
    },
    "id": "LfbY9L6NAl5p",
    "outputId": "bf1ffeee-8a0c-4764-c20c-20a100f795ec"
   },
   "outputs": [],
   "source": [
    "# Barplot of different fruits\n",
    "counts = [7306,6950,2281,2187,6237]\n",
    "labels = [\"Apple\",\"Banana\",\"Guava\",\"Lime\",\"Orange\"]\n",
    "plt.figure()\n",
    "plt.bar(range(len(counts)), counts, alpha = .7)\n",
    "plt.xticks(range(len(counts)), labels)#, rotation = 30)\n",
    "plt.xlabel(\"label\")\n",
    "plt.ylabel(\"amount\")\n",
    "plt.savefig('/content/drive/My Drive/DMML_Project/foo.png', bbox_inches='tight')\n",
    "plt.show()"
   ]
  },
  {
   "cell_type": "markdown",
   "id": "nzBXk2-7mk-9",
   "metadata": {
    "id": "nzBXk2-7mk-9"
   },
   "source": [
    "## Preprocessing"
   ]
  },
  {
   "cell_type": "markdown",
   "id": "GG2VH65Lzp2W",
   "metadata": {
    "id": "GG2VH65Lzp2W"
   },
   "source": [
    "### Data Filtering"
   ]
  },
  {
   "cell_type": "code",
   "execution_count": null,
   "id": "cCgwTW3DDT_E",
   "metadata": {
    "id": "cCgwTW3DDT_E"
   },
   "outputs": [],
   "source": [
    "# Image filtering\n",
    "def augmented_filter(X,Y,img_names): # only for Kaggle dataset\n",
    "  \"\"\"\n",
    "  filters out pre-augmented images with help of the file name\n",
    "  \"\"\"\n",
    "  temp = pd.DataFrame({\"data\":X,\"label\":Y,\"img_name\":img_names})\n",
    "  filtered = temp[temp[\"img_name\"].str.startswith(\"Screen Shot\")]\n",
    "  print(\"Number of filtered-out entries:\",len(X)-len(filtered))\n",
    "  return filtered[\"data\"].values.tolist(),filtered[\"label\"].values.tolist()\n",
    "\n",
    "def duplicate_filter(X,Y):\n",
    "  \"\"\"\n",
    "  filters out full duplicates with help of the image hash\n",
    "  \"\"\"\n",
    "  pHash = [imagehash.phash(Image.fromarray(img)) for img in X]\n",
    "  temp = pd.DataFrame({\"data\":X,\"label\":Y,\"perceptual hash\":pHash})\n",
    "  filtered = temp.drop_duplicates(subset=\"perceptual hash\")\n",
    "  print(\"Number of filtered-out entries:\",len(X)-len(filtered))\n",
    "  return filtered[\"data\"].values.tolist(), filtered[\"label\"].values.tolist()\n",
    "\n",
    "def aspect_ratio_filter(X,Y):\n",
    "  \"\"\"\n",
    "  filters out aspect ratio anomalies\n",
    "  \"\"\"\n",
    "  aspect_ratios = [img.shape[0]/img.shape[1] for img in X]\n",
    "  sqrt_sizes = [math.sqrt(img.shape[0]*img.shape[1]) for img in X]\n",
    "  temp = pd.DataFrame({\"data\":X,\"label\":Y,\"aspect ratio\":aspect_ratios,\"size\":sqrt_sizes})\n",
    "  filtered = temp.loc[(temp[\"aspect ratio\"]>=0.25) | (temp[\"size\"] > 300)]\n",
    "  filtered = filtered.loc[(filtered[\"aspect ratio\"]<=4) | (filtered[\"size\"] > 300)]\n",
    "  print(\"Number of filtered-out entries:\",len(X)-len(filtered))\n",
    "  return filtered[\"data\"].values.tolist(),filtered[\"label\"].values.tolist()\n",
    "\n",
    "def RGB_filter(X,Y):\n",
    "  \"\"\"\n",
    "  filters out RGB anomalies\n",
    "  \"\"\"\n",
    "  avg_RGB = [np.mean(img, axis=(0,1)) for img in X]\n",
    "  avg_R = [RGB[0] for RGB in avg_RGB]\n",
    "  avg_G = [RGB[1] for RGB in avg_RGB]\n",
    "  avg_B = [RGB[2] for RGB in avg_RGB]\n",
    "  temp = pd.DataFrame({\"data\":X,\"label\":Y,\"average R\":avg_R,\"average G\":avg_G,\"average B\":avg_B}) \n",
    "  filtered = temp.loc[(temp[\"average R\"]>=5) & (temp[\"average R\"]<=250)]\n",
    "  filtered = filtered.loc[(filtered[\"average G\"]>=5) & (filtered[\"average G\"]<=250)]\n",
    "  filtered = filtered.loc[(filtered[\"average B\"]>=5) & (filtered[\"average B\"]<=250)]\n",
    "  print(\"Number of filtered-out entries:\",len(X)-len(filtered))\n",
    "  return filtered[\"data\"].values.tolist(),filtered[\"label\"].values.tolist()"
   ]
  },
  {
   "cell_type": "code",
   "execution_count": null,
   "id": "R0gblpysmF5A",
   "metadata": {
    "colab": {
     "base_uri": "https://localhost:8080/"
    },
    "id": "R0gblpysmF5A",
    "outputId": "5135fc64-9ede-4abb-ed0e-4bb550e67f7e"
   },
   "outputs": [],
   "source": [
    "# Filter out already augmented pictures from Kaggle dataset (there are no augmented pictures in the Fruitnet dataset)\n",
    "X_k,Y_k = augmented_filter(X_k,Y_k,Z_k)"
   ]
  },
  {
   "cell_type": "code",
   "execution_count": null,
   "id": "kc-msNnLlrsl",
   "metadata": {
    "colab": {
     "base_uri": "https://localhost:8080/"
    },
    "id": "kc-msNnLlrsl",
    "outputId": "d4abdd66-1b49-4524-8f12-04f702295eed"
   },
   "outputs": [],
   "source": [
    "# Filter out duplicates... \n",
    "\n",
    "# ... from Kaggle dataset\n",
    "X_k,Y_k = duplicate_filter(X_k,Y_k)\n",
    "\n",
    "# ... from Fruitnet dataset\n",
    "X_f,Y_f = duplicate_filter(X_f,Y_f)"
   ]
  },
  {
   "cell_type": "code",
   "execution_count": null,
   "id": "YTM93hRFFg8F",
   "metadata": {
    "colab": {
     "base_uri": "https://localhost:8080/"
    },
    "id": "YTM93hRFFg8F",
    "outputId": "c59371e2-6e95-49d7-b9bd-859c0411b74e"
   },
   "outputs": [],
   "source": [
    "# Filter out pictures which have a smaller (square root) size than 300 and an aspect ratio below 0.25 or above 4 ...\n",
    "\n",
    "# ... from Kaggle dataset\n",
    "X_k,Y_k = aspect_ratio_filter(X_k,Y_k)\n",
    "\n",
    "# ... from Fruitnet dataset\n",
    "X_f,Y_f = aspect_ratio_filter(X_f,Y_f)"
   ]
  },
  {
   "cell_type": "code",
   "execution_count": null,
   "id": "z7reQgQjCqUU",
   "metadata": {
    "colab": {
     "base_uri": "https://localhost:8080/"
    },
    "id": "z7reQgQjCqUU",
    "outputId": "b6191142-793f-4c7e-b278-91e59d635759"
   },
   "outputs": [],
   "source": [
    "# Filter out too bright or dark pictures (due to too high average RGB values)...\n",
    "\n",
    "# ... from Kaggle dataset\n",
    "X_k,Y_k = RGB_filter(X_k,Y_k)\n",
    "\n",
    "# ... from Fruitnet dataset\n",
    "X_f,Y_f = RGB_filter(X_f,Y_f)"
   ]
  },
  {
   "cell_type": "markdown",
   "id": "yaCdgt-O0N0n",
   "metadata": {
    "id": "yaCdgt-O0N0n"
   },
   "source": [
    "### Data Normalization"
   ]
  },
  {
   "cell_type": "code",
   "execution_count": null,
   "id": "B7RJm3DH0LYL",
   "metadata": {
    "id": "B7RJm3DH0LYL"
   },
   "outputs": [],
   "source": [
    "# Resize images\n",
    "def resize(X,V):\n",
    "  \"\"\"\n",
    "  Downsizes images of a list X to a given width and height of V\n",
    "  \"\"\"\n",
    "  resized = []\n",
    "  for img in X:\n",
    "    resized.append(cv2.resize(img, (V,V), interpolation=cv2.INTER_CUBIC))\n",
    "  return resized\n",
    "\n",
    "# Rescale images\n",
    "def rescale(X):\n",
    "  return [img/255 for img in X]"
   ]
  },
  {
   "cell_type": "code",
   "execution_count": null,
   "id": "P8bcLxibP54A",
   "metadata": {
    "id": "P8bcLxibP54A"
   },
   "outputs": [],
   "source": [
    "# Downsize images to 128x128...\n",
    "\n",
    "# ... Kaggle dataset\n",
    "X_k = resize(X_k, 128)\n",
    "\n",
    "# ... Fruitnet dataset\n",
    "X_f = resize(X_f, 128)"
   ]
  },
  {
   "cell_type": "code",
   "execution_count": null,
   "id": "PvudtDK4Kaw8",
   "metadata": {
    "id": "PvudtDK4Kaw8"
   },
   "outputs": [],
   "source": [
    "# Rescale pictures ... ACHTUNG, CRASH! <-- Money helped\n",
    "\n",
    "# ... from Kaggle dataset\n",
    "X_k= rescale(X_k)\n",
    "\n",
    "# ... from Fruitnet dataset\n",
    "X_f = rescale(X_f)\n"
   ]
  },
  {
   "cell_type": "code",
   "execution_count": null,
   "id": "8azgoWmWGsa6",
   "metadata": {
    "id": "8azgoWmWGsa6"
   },
   "outputs": [],
   "source": [
    "# Merge datasets \n",
    "X = X_k + X_f\n",
    "Y = Y_k + Y_f"
   ]
  },
  {
   "cell_type": "code",
   "execution_count": null,
   "id": "WpAB4AXpHH2M",
   "metadata": {
    "colab": {
     "base_uri": "https://localhost:8080/"
    },
    "id": "WpAB4AXpHH2M",
    "outputId": "aa8d4ec5-d85b-46b7-c0c0-902c865f0fb0"
   },
   "outputs": [],
   "source": [
    "# Check amount of \n",
    "print(\"Amount of pictures left from Kaggle dataset: \" + str(len(X_k)))\n",
    "print(\"Amount of pictures left from Fruitnet dataset: \" + str(len(X_f)))\n",
    "print(\"Amount of pictures in resulting total dataset: \" + str(len(X)))"
   ]
  },
  {
   "cell_type": "code",
   "execution_count": null,
   "id": "Qw4Mvmv6iU4m",
   "metadata": {
    "colab": {
     "base_uri": "https://localhost:8080/"
    },
    "id": "Qw4Mvmv6iU4m",
    "outputId": "dd5425ea-94a0-417b-bc4b-15b720f64e9f"
   },
   "outputs": [],
   "source": [
    "# LabelEncoder - split labels\n",
    "Y_fresh = [label.split(\"_\")[1] for label in Y]\n",
    "Y_fresh_encoded = LabelEncoder().fit_transform(Y_fresh)\n",
    "\n",
    "print(Y_fruit_encoded)\n",
    "print(Y_fresh_encoded)"
   ]
  },
  {
   "cell_type": "code",
   "execution_count": null,
   "id": "r7nsFi1tdzte",
   "metadata": {
    "id": "r7nsFi1tdzte"
   },
   "outputs": [],
   "source": [
    "# Train-Test-Split: Train = 80%, Test = 20%\n",
    "X = np.array(X)\n",
    "X_train, X_test, y_train, y_test = train_test_split(X, Y_fresh_encoded, test_size=0.2, random_state=1)\n",
    "\n"
   ]
  },
  {
   "cell_type": "code",
   "execution_count": null,
   "id": "VVuAddN82ozc",
   "metadata": {
    "id": "VVuAddN82ozc"
   },
   "outputs": [],
   "source": [
    "# Train-Validation-Split: Train = 70%, Validation = 10%\n",
    "X_train, X_valid, y_train, y_valid = train_test_split(X_train, y_train, test_size=0.125, random_state=1) # 0.125 x 0.8 = 0.1"
   ]
  },
  {
   "cell_type": "markdown",
   "id": "FDzPLGrIR0EF",
   "metadata": {
    "id": "FDzPLGrIR0EF"
   },
   "source": [
    "#### PCA"
   ]
  },
  {
   "cell_type": "code",
   "execution_count": null,
   "id": "v3Lny4SnR1MW",
   "metadata": {
    "id": "v3Lny4SnR1MW"
   },
   "outputs": [],
   "source": [
    "def Dim_Reduction(X):\n",
    "  '''\n",
    "  Function to apply PCA to the given RGB image data\n",
    "  returns reconstructed images\n",
    "  '''\n",
    "  reconstructed_X = []\n",
    "  for img in tqdm(X):\n",
    "    B,G,R = cv2.split(img)\n",
    "    pca_r = PCA(n_components=0.99, whiten=True, random_state=42)\n",
    "    reduced_R = pca_r.fit_transform(np.array(R))\n",
    "    #print(\"Red Dimension reduced from\", img.shape,\"to\",reduced_R.shape)\n",
    "    pca_g = PCA(n_components=0.99, whiten=True, random_state=42)\n",
    "    reduced_G = pca_g.fit_transform(np.array(G))\n",
    "    #print(\"Blue Dimension reduced from\", img.shape,\"to\",reduced_G.shape)\n",
    "    pca_b = PCA(n_components=0.99, whiten=True, random_state=42)\n",
    "    reduced_B = pca_b.fit_transform(np.array(B))\n",
    "    #print(\"Green Dimension reduced from\", img.shape,\"to\",reduced_B.shape)\n",
    "    reconstructed_r = pca_r.inverse_transform(reduced_R)\n",
    "    reconstructed_g = pca_g.inverse_transform(reduced_G)\n",
    "    reconstructed_b = pca_b.inverse_transform(reduced_B)\n",
    "    reconstructed_X.append(cv2.merge((reconstructed_b, reconstructed_g, reconstructed_r)))\n",
    "  return reconstructed_X"
   ]
  },
  {
   "cell_type": "code",
   "execution_count": null,
   "id": "EqpeQDloEG9T",
   "metadata": {
    "id": "EqpeQDloEG9T"
   },
   "outputs": [],
   "source": [
    "# Plot some reconstructed images\n",
    "reconstructed = Dim_Reduction(X)\n",
    "len(reconstructed)\n",
    "show_subplot(reconstructed,Y)"
   ]
  },
  {
   "cell_type": "markdown",
   "id": "U8rLURGR3KKO",
   "metadata": {
    "id": "U8rLURGR3KKO"
   },
   "source": [
    "### Augmentation"
   ]
  },
  {
   "cell_type": "code",
   "execution_count": null,
   "id": "aa78bf1b",
   "metadata": {
    "id": "aa78bf1b"
   },
   "outputs": [],
   "source": [
    "# Create new pictures from original data with ImageDataGenerator\n",
    "datagen = ImageDataGenerator(\n",
    "    rotation_range=180,         # randomly rotates pictures\n",
    "    width_shift_range=10,       # randomly shifts pictures vertically\n",
    "    height_shift_range=10,      # randomly shifts pictures horizontally\n",
    "    shear_range=5,              # randomly shears pictures\n",
    "    brightness_range=[0.8,1.2], # randomly changes brightness of pictures\n",
    "    horizontal_flip=True,       # randomly flips pictures horizontally\n",
    "    vertical_flip=True          # randomly flips pictures vertically\n",
    ")"
   ]
  },
  {
   "cell_type": "code",
   "execution_count": null,
   "id": "IDAtOgR2zF0V",
   "metadata": {
    "id": "IDAtOgR2zF0V"
   },
   "outputs": [],
   "source": [
    "# Data Augmentation func\n",
    "def augment(X, Y):\n",
    "  aug_X = []                      # list of augmented pictures, each picture will be augmented two times (TBD!)\n",
    "  aug_Y = []                      # list of respective labels for augmented pictures\n",
    "  for i in range(len(X)): \n",
    "    pic_array = expand_dims(X[i],0)\n",
    "    \n",
    "    # Create an iterator\n",
    "    it = datagen.flow(pic_array)\n",
    "\n",
    "    # Generate batch of images\n",
    "    for j in range(1):      # reduced to 1 to save RAM\n",
    "    \n",
    "        # convert to unsigned integers\n",
    "        image = next(it)[0].astype('uint8')\n",
    "        \n",
    "        # Append image and respective label to lists\n",
    "        aug_X.append(image)\n",
    "        aug_Y.append(Y[i]) # 0 variabel \n",
    "  aug_X = rescale(aug_X)\n",
    "  return aug_X, aug_Y"
   ]
  },
  {
   "cell_type": "code",
   "execution_count": null,
   "id": "hX_DS1KbzkuN",
   "metadata": {
    "id": "hX_DS1KbzkuN"
   },
   "outputs": [],
   "source": [
    "# Data Augmentation\n",
    "\n",
    "# Train data\n",
    "aug_X_train, aug_y_train = augment(X_train, y_train)\n",
    "\n",
    "# Valdidation data\n",
    "aug_X_valid, aug_y_valid = augment(X_valid, y_valid)\n",
    "\n",
    "# Test data\n",
    "aug_X_test, aug_y_test = augment(X_test, y_test)"
   ]
  },
  {
   "cell_type": "code",
   "execution_count": null,
   "id": "_yBXpZq1WyWz",
   "metadata": {
    "colab": {
     "base_uri": "https://localhost:8080/",
     "height": 1000
    },
    "id": "_yBXpZq1WyWz",
    "outputId": "44a24c50-cccc-4e47-c6db-233f3aa2bff8"
   },
   "outputs": [],
   "source": [
    "# plot some augmented pictures\n",
    "images = [X_train[0],aug_X_train[0],X_train[1],aug_X_train[1],X_train[2],aug_X_train[2],X_train[3],aug_X_train[3],X_train[4],aug_X_train[4],X_train[5],aug_X_train[5],X_train[6],aug_X_train[6],X_train[7],aug_X_train[7],X_train[8],aug_X_train[8],X_train[9],aug_X_train[9],X_train[10],aug_X_train[10],X_train[11],aug_X_train[11],X_train[12],aug_X_train[12],X_train[13],aug_X_train[13],X_train[14],aug_X_train[14],X_train[15],aug_X_train[15],X_train[16],aug_X_train[16],X_train[17],aug_X_train[17]]\n",
    "labels = [\"Before\",\"After\",\"Before\",\"After\",\"Before\",\"After\",\"Before\",\"After\",\"Before\",\"After\",\"Before\",\"After\",\"Before\",\"After\",\"Before\",\"After\",\"Before\",\"After\",\"Before\",\"After\",\"Before\",\"After\",\"Before\",\"After\",\"Before\",\"After\",\"Before\",\"After\",\"Before\",\"After\",\"Before\",\"After\",\"Before\",\"After\",\"Before\",\"After\"]\n",
    "show_subplot(images,labels)"
   ]
  },
  {
   "cell_type": "code",
   "execution_count": null,
   "id": "4TKEOXIwYKiX",
   "metadata": {
    "id": "4TKEOXIwYKiX"
   },
   "outputs": [],
   "source": [
    "# add augmented data to original data\n",
    "# Train data\n",
    "X_train = np.concatenate((X_train, np.array(aug_X_train)), axis=0)\n",
    "y_train = np.concatenate((y_train, np.array(aug_y_train)), axis=0)\n",
    "## shuffle\n",
    "np.random.seed(42)\n",
    "np.random.shuffle(X_train)\n",
    "np.random.seed(42)\n",
    "np.random.shuffle(y_train)\n",
    "\n",
    "# Validation data\n",
    "X_valid = np.concatenate((X_valid, np.array(aug_X_valid)), axis=0)\n",
    "y_valid = np.concatenate((y_valid, np.array(aug_y_valid)), axis=0)\n",
    "## shuffle\n",
    "np.random.seed(42)\n",
    "np.random.shuffle(X_valid)\n",
    "np.random.seed(42)\n",
    "np.random.shuffle(y_valid)\n",
    "\n",
    "# test data\n",
    "X_test = np.concatenate((X_test, np.array(aug_X_test)), axis=0)\n",
    "y_test = np.concatenate((y_test, np.array(aug_y_test)), axis=0)\n",
    "\n",
    "## shuffle\n",
    "np.random.seed(42)\n",
    "np.random.shuffle(X_test)\n",
    "np.random.seed(42)\n",
    "np.random.shuffle(y_test)\n"
   ]
  },
  {
   "cell_type": "code",
   "execution_count": null,
   "id": "yHGxTBVt3ndy",
   "metadata": {
    "id": "yHGxTBVt3ndy"
   },
   "outputs": [],
   "source": [
    "print(\"Number of train instances after Augmentation:\", len(X_train))\n",
    "print(\"Number of validation instances after Augmentation:\", len(X_valid))\n",
    "print(\"Number of test instances after Augmentation:\", len(X_test))"
   ]
  },
  {
   "cell_type": "code",
   "execution_count": null,
   "id": "IwbOCgwjbjVr",
   "metadata": {
    "colab": {
     "base_uri": "https://localhost:8080/",
     "height": 1000
    },
    "id": "IwbOCgwjbjVr",
    "outputId": "8db72202-a40b-4095-f2e4-219c54410496"
   },
   "outputs": [],
   "source": [
    "# Plot some examples from final train data\n",
    "show_subplot(X_train,y_train)"
   ]
  },
  {
   "cell_type": "markdown",
   "id": "VSZPIAXF2wDi",
   "metadata": {
    "id": "VSZPIAXF2wDi"
   },
   "source": [
    "## Modelling"
   ]
  },
  {
   "cell_type": "markdown",
   "id": "JPEWw2s71RNH",
   "metadata": {
    "id": "JPEWw2s71RNH"
   },
   "source": [
    "### General Function"
   ]
  },
  {
   "cell_type": "code",
   "execution_count": null,
   "id": "C-TC4Y-09rNJ",
   "metadata": {
    "id": "C-TC4Y-09rNJ"
   },
   "outputs": [],
   "source": [
    "# import needed libraries\n",
    "import keras \n",
    "from keras.layers import Dense,Dropout, Conv2D,MaxPooling2D , Activation, Flatten, BatchNormalization, SeparableConv2D\n",
    "from keras.models import Sequential\n",
    "import tensorflow as tf\n",
    "from keras.models import Model, load_model\n",
    "from sklearn.metrics import confusion_matrix\n",
    "from sklearn.metrics import classification_report"
   ]
  },
  {
   "cell_type": "code",
   "execution_count": null,
   "id": "X1b92nNAVgCV",
   "metadata": {
    "id": "X1b92nNAVgCV"
   },
   "outputs": [],
   "source": [
    "def plot_training_history(history):\n",
    "  '''\n",
    "  Function plots training history for a model\n",
    "  '''\n",
    "  plt.figure(1, figsize = (20, 12))\n",
    "  plt.subplot(1,2,1)\n",
    "  plt.xlabel(\"Epochs\")\n",
    "  plt.ylabel(\"Loss\")\n",
    "  plt.plot( history.history[\"loss\"], label = \"Training Loss\")\n",
    "  plt.plot( history.history[\"val_loss\"], label = \"Validation Loss\")\n",
    "  plt.grid(True)\n",
    "  plt.legend()\n",
    "\n",
    "  plt.subplot(1,2,2)\n",
    "  plt.xlabel(\"Epochs\")\n",
    "  plt.ylabel(\"Accuracy\")\n",
    "  plt.plot( history.history[\"accuracy\"], label = \"Training Accuracy\")\n",
    "  plt.plot( history.history[\"val_accuracy\"], label = \"Validation Accuracy\")\n",
    "  plt.grid(True)\n",
    "  plt.legend()"
   ]
  },
  {
   "cell_type": "code",
   "execution_count": null,
   "id": "SxZ_TRTI7Lnt",
   "metadata": {
    "id": "SxZ_TRTI7Lnt"
   },
   "outputs": [],
   "source": [
    "#Load the final data right without the need to rerun all previous steps\n",
    "#data can be found here: https://drive.google.com/drive/folders/17RRL9rI-dLtBB4B0En5iDPF38WhuyLjs?usp=sharing\n",
    "X_train = np.load('/content/drive/My Drive/DMML_Project/Final_Data/After_Augmentation/X_train_aug.npy')\n",
    "X_test = np.load('/content/drive/My Drive/DMML_Project/Final_Data/After_Augmentation/X_test_aug.npy')\n",
    "X_valid = np.load('/content/drive/My Drive/DMML_Project/Final_Data/After_Augmentation/X_valid_aug.npy')\n",
    "y_train = np.load('/content/drive/My Drive/DMML_Project/Final_Data/After_Augmentation/y_train_aug.npy')\n",
    "y_test = np.load('/content/drive/My Drive/DMML_Project/Final_Data/After_Augmentation/y_test_aug.npy')\n",
    "y_valid = np.load('/content/drive/My Drive/DMML_Project/Final_Data/After_Augmentation/y_valid_aug.npy')"
   ]
  },
  {
   "cell_type": "markdown",
   "id": "v4m1GKE25GFi",
   "metadata": {
    "id": "v4m1GKE25GFi"
   },
   "source": [
    "### CNN1"
   ]
  },
  {
   "cell_type": "code",
   "execution_count": null,
   "id": "Z-o96ZNr5YOS",
   "metadata": {
    "id": "Z-o96ZNr5YOS"
   },
   "outputs": [],
   "source": [
    "# Create CNN with 8 layers\n",
    "model = keras.models.Sequential([\n",
    "    keras.layers.Conv2D(32, kernel_size=3, padding=\"same\", activation=\"relu\"),\n",
    "    keras.layers.Conv2D(64, kernel_size=3, padding=\"same\", activation=\"relu\"),\n",
    "    keras.layers.MaxPool2D(),\n",
    "    keras.layers.Flatten(),\n",
    "    keras.layers.Dropout(0.25),\n",
    "    keras.layers.Dense(128, activation=\"relu\"),\n",
    "    keras.layers.Dropout(0.5),\n",
    "    keras.layers.Dense(1, activation=\"sigmoid\")\n",
    "])"
   ]
  },
  {
   "cell_type": "code",
   "execution_count": null,
   "id": "xc6DoAmY5YYT",
   "metadata": {
    "id": "xc6DoAmY5YYT"
   },
   "outputs": [],
   "source": [
    "# Compile model\n",
    "model.compile(loss=\"binary_crossentropy\", optimizer=\"adam\",\n",
    "              metrics=[\"accuracy\"])"
   ]
  },
  {
   "cell_type": "code",
   "execution_count": null,
   "id": "2_1z5DIBZEti",
   "metadata": {
    "colab": {
     "base_uri": "https://localhost:8080/"
    },
    "id": "2_1z5DIBZEti",
    "outputId": "b1318683-c201-4117-9680-b38664850fda"
   },
   "outputs": [],
   "source": [
    "# Fit model\n",
    "%%time\n",
    "tf.random.set_seed(42)\n",
    "history = model.fit(X_train, y_train, epochs=10, validation_data=[X_valid, y_valid])\n"
   ]
  },
  {
   "cell_type": "code",
   "execution_count": null,
   "id": "TqLBdlYg5_mN",
   "metadata": {
    "colab": {
     "base_uri": "https://localhost:8080/"
    },
    "id": "TqLBdlYg5_mN",
    "outputId": "81ad4ee9-cd64-47db-ec2d-674bcd943dd6"
   },
   "outputs": [],
   "source": [
    "# print model summary\n",
    "model.summary()"
   ]
  },
  {
   "cell_type": "code",
   "execution_count": null,
   "id": "eoP4DnLt5ixw",
   "metadata": {
    "colab": {
     "base_uri": "https://localhost:8080/",
     "height": 714
    },
    "id": "eoP4DnLt5ixw",
    "outputId": "92deffeb-fd4e-4614-9ce8-39c1c3a2ec64"
   },
   "outputs": [],
   "source": [
    "# plot training history\n",
    "plot_training_history(history)"
   ]
  },
  {
   "cell_type": "code",
   "execution_count": null,
   "id": "L7XIx2tf5i6a",
   "metadata": {
    "colab": {
     "base_uri": "https://localhost:8080/"
    },
    "id": "L7XIx2tf5i6a",
    "outputId": "aeabb423-5a1c-48e4-c210-503676b1d148"
   },
   "outputs": [],
   "source": [
    "# model evaluation\n",
    "model.evaluate(X_test, y_test)"
   ]
  },
  {
   "cell_type": "code",
   "execution_count": null,
   "id": "pR4WBDIN0xjQ",
   "metadata": {
    "id": "pR4WBDIN0xjQ"
   },
   "outputs": [],
   "source": [
    "# reload fitted model\n",
    "# find folder to load this model under this link: https://drive.google.com/drive/folders/1GhNa-RbiSuJIRKCsu1OB2B1a1ngNMnlx?usp=sharing\n",
    "CNN1 = load_model('/content/drive/My Drive/DMML_Project/Final_Models/CNN1.h5')"
   ]
  },
  {
   "cell_type": "code",
   "execution_count": null,
   "id": "WZDNIchICV99",
   "metadata": {
    "id": "WZDNIchICV99"
   },
   "outputs": [],
   "source": [
    "# Generate predictions for test data\n",
    "y_pred_CNN1 = CNN1.predict(X_test)"
   ]
  },
  {
   "cell_type": "code",
   "execution_count": null,
   "id": "Z-w4HTkOEhdx",
   "metadata": {
    "colab": {
     "base_uri": "https://localhost:8080/"
    },
    "id": "Z-w4HTkOEhdx",
    "outputId": "46662ace-b158-4b49-9974-fca17d639740"
   },
   "outputs": [],
   "source": [
    "# print classification report\n",
    "print(classification_report(y_test, y_pred_CNN1.round()))"
   ]
  },
  {
   "cell_type": "code",
   "execution_count": null,
   "id": "ak5Zs4X_EhE2",
   "metadata": {
    "colab": {
     "base_uri": "https://localhost:8080/",
     "height": 279
    },
    "id": "ak5Zs4X_EhE2",
    "outputId": "3392e19a-afcf-4620-872c-befe39fbc924"
   },
   "outputs": [],
   "source": [
    "# plot the confusion matrix\n",
    "mat = confusion_matrix(y_test, y_pred_CNN1.round())\n",
    "sns.heatmap(mat.T, square=True, annot=True, fmt='d', cbar=False)\n",
    "plt.xlabel('true label')\n",
    "plt.ylabel('predicted label');"
   ]
  },
  {
   "cell_type": "markdown",
   "id": "xx2SG98tTfO5",
   "metadata": {
    "id": "xx2SG98tTfO5"
   },
   "source": [
    "### CNN2"
   ]
  },
  {
   "cell_type": "code",
   "execution_count": null,
   "id": "jRwMynd_M2n_",
   "metadata": {
    "id": "jRwMynd_M2n_"
   },
   "outputs": [],
   "source": [
    "# Create CNN with 19 layers\n",
    "model = keras.models.Sequential()\n",
    "\n",
    "model.add(Conv2D(64, (3, 3), kernel_initializer='he_uniform', padding='same', activation='relu', input_shape=(128,128,3)))\n",
    "model.add(BatchNormalization()) # to avoid overfitting (after layer)\n",
    "model.add(MaxPooling2D((2, 2)))\n",
    "model.add(BatchNormalization())\n",
    "model.add(Dropout(0.2)) #reduce overfitting and improve generalization #error \n",
    "\n",
    "model.add(SeparableConv2D(64, (3, 3), kernel_initializer='he_uniform', padding='same', activation='relu'))\n",
    "model.add(BatchNormalization())\n",
    "model.add(MaxPooling2D((3, 3)))\n",
    "model.add(Dropout(0.3))\n",
    "\n",
    "model.add(Conv2D(128, (3, 3), kernel_initializer='he_uniform', padding='same', activation='relu'))\n",
    "model.add(BatchNormalization())\n",
    "model.add(Conv2D(64, (3, 3), kernel_initializer='he_uniform', padding='same', activation='relu'))\n",
    "model.add(BatchNormalization())\n",
    "model.add(MaxPooling2D((2, 2)))\n",
    "model.add(Dropout(0.5))\n",
    "\n",
    "model.add(Flatten())\n",
    "\n",
    "model.add(Dense(64, activation='relu', kernel_initializer='he_uniform'))\n",
    "model.add(Dropout(0.2))\n",
    "\n",
    "model.add(Dense(1, activation='sigmoid'))\n"
   ]
  },
  {
   "cell_type": "code",
   "execution_count": null,
   "id": "286zLtW5YkOx",
   "metadata": {
    "colab": {
     "base_uri": "https://localhost:8080/"
    },
    "id": "286zLtW5YkOx",
    "outputId": "cb52bce8-b6bd-4e04-d670-59f380493294"
   },
   "outputs": [],
   "source": [
    "# print model summary\n",
    "model.summary()"
   ]
  },
  {
   "cell_type": "code",
   "execution_count": null,
   "id": "hfpgqgpPbwI3",
   "metadata": {
    "id": "hfpgqgpPbwI3"
   },
   "outputs": [],
   "source": [
    "# Compile model\n",
    "model.compile(loss='binary_crossentropy', optimizer=\"adam\",metrics=[\"accuracy\"])"
   ]
  },
  {
   "cell_type": "code",
   "execution_count": null,
   "id": "T4nvcinoLDJP",
   "metadata": {
    "colab": {
     "base_uri": "https://localhost:8080/"
    },
    "id": "T4nvcinoLDJP",
    "outputId": "e9f0f737-4805-48d5-f5d1-d84061548644"
   },
   "outputs": [],
   "source": [
    "# Fit model\n",
    "%%time\n",
    "tf.random.set_seed(42)    # set seed to make model runs comparable\n",
    "history = model.fit(X_train, y_train, epochs=10, validation_data=[X_valid, y_valid])"
   ]
  },
  {
   "cell_type": "code",
   "execution_count": null,
   "id": "AD6ffhISP-mS",
   "metadata": {
    "colab": {
     "base_uri": "https://localhost:8080/",
     "height": 714
    },
    "id": "AD6ffhISP-mS",
    "outputId": "488e0ce9-a0cf-4721-da17-2f2d1228b953"
   },
   "outputs": [],
   "source": [
    "# Plot training history\n",
    "plot_training_history(history)"
   ]
  },
  {
   "cell_type": "code",
   "execution_count": null,
   "id": "tVhihmqeP_1K",
   "metadata": {
    "colab": {
     "base_uri": "https://localhost:8080/"
    },
    "id": "tVhihmqeP_1K",
    "outputId": "cfab6512-718a-4c2e-fcaf-a4d8177711ac"
   },
   "outputs": [],
   "source": [
    "# model evaluation\n",
    "model.evaluate(X_test, y_test)"
   ]
  },
  {
   "cell_type": "code",
   "execution_count": null,
   "id": "DaxUgQdPH6QG",
   "metadata": {
    "id": "DaxUgQdPH6QG"
   },
   "outputs": [],
   "source": [
    "# reload fitted model\n",
    "# find folder to load this model under this link: https://drive.google.com/drive/folders/1GhNa-RbiSuJIRKCsu1OB2B1a1ngNMnlx?usp=sharing\n",
    "CNN2 = load_model('/content/drive/My Drive/DMML_Project/Final_Models/CNN2.h5')"
   ]
  },
  {
   "cell_type": "code",
   "execution_count": null,
   "id": "HG5HB3MqJ_OC",
   "metadata": {
    "id": "HG5HB3MqJ_OC"
   },
   "outputs": [],
   "source": [
    "# Generate predictions\n",
    "y_pred_CNN2 = CNN2.predict(X_test)"
   ]
  },
  {
   "cell_type": "code",
   "execution_count": null,
   "id": "4o3GsKmYINsM",
   "metadata": {
    "colab": {
     "base_uri": "https://localhost:8080/"
    },
    "id": "4o3GsKmYINsM",
    "outputId": "8343cb4e-5e04-42ea-e8f2-72accb97de93"
   },
   "outputs": [],
   "source": [
    "# Print classification report\n",
    "print(classification_report(y_test, y_pred_CNN2.round()))"
   ]
  },
  {
   "cell_type": "code",
   "execution_count": null,
   "id": "kSxNY39rKRKR",
   "metadata": {
    "colab": {
     "base_uri": "https://localhost:8080/",
     "height": 279
    },
    "id": "kSxNY39rKRKR",
    "outputId": "3fca646d-5983-41ad-c9fb-1bd69403053e"
   },
   "outputs": [],
   "source": [
    "# plot the confusion matrix:\n",
    "mat = confusion_matrix(y_test, y_pred_CNN2.round())\n",
    "sns.heatmap(mat.T, square=True, annot=True, fmt='d', cbar=False)\n",
    "plt.xlabel('true label')\n",
    "plt.ylabel('predicted label');"
   ]
  },
  {
   "cell_type": "markdown",
   "id": "qv2QhcFoFTeb",
   "metadata": {
    "id": "qv2QhcFoFTeb"
   },
   "source": [
    "### VGG16"
   ]
  },
  {
   "cell_type": "code",
   "execution_count": null,
   "id": "1QLDsJPIGz9K",
   "metadata": {
    "id": "1QLDsJPIGz9K"
   },
   "outputs": [],
   "source": [
    "# import required libraries\n",
    "from tensorflow.keras.applications.vgg16 import VGG16\n",
    "from tensorflow.keras import layers "
   ]
  },
  {
   "cell_type": "code",
   "execution_count": null,
   "id": "I_KZHf8C8gED",
   "metadata": {
    "id": "I_KZHf8C8gED"
   },
   "outputs": [],
   "source": [
    "# load base model with pre-trained weights\n",
    "base_model = VGG16(input_shape = (128, 128, 3), # Shape of our images\n",
    "include_top = False, # Leave out the last fully connected layer to be able to set the input_shape\n",
    "weights = 'imagenet')"
   ]
  },
  {
   "cell_type": "code",
   "execution_count": null,
   "id": "kEhWhnzdG6d0",
   "metadata": {
    "id": "kEhWhnzdG6d0"
   },
   "outputs": [],
   "source": [
    "# set some layers non-trainable\n",
    "for layer in base_model.layers:\n",
    "    layer.trainable = False"
   ]
  },
  {
   "cell_type": "code",
   "execution_count": null,
   "id": "T2zh2qnrG7RY",
   "metadata": {
    "colab": {
     "base_uri": "https://localhost:8080/"
    },
    "id": "T2zh2qnrG7RY",
    "outputId": "dbb9ac66-e178-4025-8dee-74ae97686632"
   },
   "outputs": [],
   "source": [
    "# Flatten the output layer to 1 dimension\n",
    "x = layers.Flatten()(base_model.output)\n",
    "\n",
    "# Add a fully connected layer with 512 hidden units and ReLU activation\n",
    "x = layers.Dense(512, activation='relu')(x)\n",
    "\n",
    "# Add a dropout rate of 0.5\n",
    "x = layers.Dropout(0.5)(x)\n",
    "\n",
    "# Add a final sigmoid layer with 1 node for classification output\n",
    "x = layers.Dense(1, activation='sigmoid')(x)\n",
    "\n",
    "model = tf.keras.models.Model(base_model.input, x)"
   ]
  },
  {
   "cell_type": "code",
   "execution_count": null,
   "id": "oZwsJ_Kl9DR2",
   "metadata": {
    "id": "oZwsJ_Kl9DR2"
   },
   "outputs": [],
   "source": [
    "# Compile model\n",
    "model.compile(optimizer = tf.keras.optimizers.RMSprop(lr=0.0001), loss = 'binary_crossentropy',metrics = ['acc'])"
   ]
  },
  {
   "cell_type": "code",
   "execution_count": null,
   "id": "1S3_qoSbM372",
   "metadata": {
    "colab": {
     "base_uri": "https://localhost:8080/"
    },
    "id": "1S3_qoSbM372",
    "outputId": "cead3c95-0f18-4c14-9618-49d1d1c016e6"
   },
   "outputs": [],
   "source": [
    "# print model summary\n",
    "model.summary()"
   ]
  },
  {
   "cell_type": "code",
   "execution_count": null,
   "id": "NUoIFSnjHRDe",
   "metadata": {
    "colab": {
     "base_uri": "https://localhost:8080/"
    },
    "id": "NUoIFSnjHRDe",
    "outputId": "37c0f0d2-0fa7-4c4a-c658-c909f044a51b"
   },
   "outputs": [],
   "source": [
    "# Fit model\n",
    "%%time\n",
    "tf.random.set_seed(42)\n",
    "history = model.fit(X_train, y_train, validation_data=[X_valid, y_valid], steps_per_epoch = 100, epochs = 10)"
   ]
  },
  {
   "cell_type": "code",
   "execution_count": null,
   "id": "VfBop1BxH_86",
   "metadata": {
    "colab": {
     "base_uri": "https://localhost:8080/",
     "height": 582
    },
    "id": "VfBop1BxH_86",
    "outputId": "158839a3-5dd7-4554-c812-066894ae1736"
   },
   "outputs": [],
   "source": [
    "# plot training history \n",
    "plt.figure(1, figsize = (20, 12))\n",
    "plt.subplot(1,2,1)\n",
    "plt.xlabel(\"Epochs\")\n",
    "plt.ylabel(\"Loss\")\n",
    "plt.plot( history.history[\"loss\"], label = \"Training Loss\")\n",
    "plt.plot( history.history[\"val_loss\"], label = \"Validation Loss\")\n",
    "plt.grid(True)\n",
    "plt.legend()\n",
    "\n",
    "plt.subplot(1,2,2)\n",
    "plt.xlabel(\"Epochs\")\n",
    "plt.ylabel(\"Accuracy\")\n",
    "plt.plot( history.history[\"acc\"], label = \"Training Accuracy\")\n",
    "plt.plot( history.history[\"val_acc\"], label = \"Validation Accuracy\")\n",
    "plt.grid(True)\n",
    "plt.legend()"
   ]
  },
  {
   "cell_type": "code",
   "execution_count": null,
   "id": "gi3WcTjQKgPq",
   "metadata": {
    "colab": {
     "base_uri": "https://localhost:8080/"
    },
    "id": "gi3WcTjQKgPq",
    "outputId": "63de99ee-ec47-4a30-912e-5ca6e98be050"
   },
   "outputs": [],
   "source": [
    "# model evaluation\n",
    "model.evaluate(X_test, y_test)"
   ]
  },
  {
   "cell_type": "code",
   "execution_count": null,
   "id": "iiN2AsThIEvF",
   "metadata": {
    "id": "iiN2AsThIEvF"
   },
   "outputs": [],
   "source": [
    "# reload fitted model\n",
    "# find folder to load this model under this link: https://drive.google.com/drive/folders/1GhNa-RbiSuJIRKCsu1OB2B1a1ngNMnlx?usp=sharing\n",
    "VGG16 = load_model('/content/drive/My Drive/DMML_Project/Final_Models/VGG16.h5')"
   ]
  },
  {
   "cell_type": "code",
   "execution_count": null,
   "id": "ZlcCen3_963r",
   "metadata": {
    "id": "ZlcCen3_963r"
   },
   "outputs": [],
   "source": [
    "# generate predictions\n",
    "y_pred_VGG16 = VGG16.predict(X_test)"
   ]
  },
  {
   "cell_type": "code",
   "execution_count": null,
   "id": "zAVNMZFH_pQN",
   "metadata": {
    "colab": {
     "base_uri": "https://localhost:8080/"
    },
    "id": "zAVNMZFH_pQN",
    "outputId": "c1a3ec0d-f08b-4cf0-a31a-0353fe43284a"
   },
   "outputs": [],
   "source": [
    "# print classification report\n",
    "print(classification_report(y_test, y_pred_VGG16.round()))\n"
   ]
  },
  {
   "cell_type": "code",
   "execution_count": null,
   "id": "SvwB_bEM_ORP",
   "metadata": {
    "colab": {
     "base_uri": "https://localhost:8080/",
     "height": 279
    },
    "id": "SvwB_bEM_ORP",
    "outputId": "6bae3ff0-30bb-4b45-faae-0d26464f242e"
   },
   "outputs": [],
   "source": [
    "# plot the confusion matrix\n",
    "mat = confusion_matrix(y_test, y_pred_VGG16.round())\n",
    "sns.heatmap(mat.T, square=True, annot=True, fmt='d', cbar=False)\n",
    "plt.xlabel('true label')\n",
    "plt.ylabel('predicted label');"
   ]
  },
  {
   "cell_type": "markdown",
   "id": "X1ohZm9yMHHx",
   "metadata": {
    "id": "X1ohZm9yMHHx"
   },
   "source": [
    "### Performance Comparison"
   ]
  },
  {
   "cell_type": "code",
   "execution_count": null,
   "id": "FM2uu1o1Z-jB",
   "metadata": {
    "id": "FM2uu1o1Z-jB"
   },
   "outputs": [],
   "source": [
    "params = [33.6,56.5,42]\n",
    "accuracy = [92,96,96]\n",
    "precision = [90,97,98]\n",
    "recall = [94,94,94]\n",
    "f1 = [92,96,96]\n",
    "runtime = [52,37,28]\n",
    "modelnames = [\"CNN1\",\"CNN2\",\"VGG16\"]"
   ]
  },
  {
   "cell_type": "code",
   "execution_count": null,
   "id": "V0cWde4KNWUU",
   "metadata": {
    "colab": {
     "base_uri": "https://localhost:8080/",
     "height": 283
    },
    "id": "V0cWde4KNWUU",
    "outputId": "9c510e2e-2efe-4756-9603-e981d2bd6bf3"
   },
   "outputs": [],
   "source": [
    "# plot accuracy vs number of params\n",
    "plt.scatter(params, accuracy, s=80)\n",
    "plt.ylim(90, 100)\n",
    "plt.xlim(30, 63)\n",
    "plt.grid()\n",
    "plt.xlabel(\"Number of Parameters in millions\")\n",
    "plt.ylabel(\"Accuracy(%)\")\n",
    "plt.annotate(\"CNN1\", (33.6, 92), xytext=(34.5,92),fontsize=14)\n",
    "plt.annotate(\"CNN2\", (56.5, 96), xytext=(57.5,96),fontsize=14)\n",
    "plt.annotate(\"VGG16\", (42, 96), xytext=(43,96),fontsize=14)\n",
    "#plt.savefig('/content/drive/My Drive/DMML_Project/complexity_plot.png', bbox_inches='tight')\n",
    "plt.show()"
   ]
  },
  {
   "cell_type": "code",
   "execution_count": null,
   "id": "LNqOh_66YG3n",
   "metadata": {
    "id": "LNqOh_66YG3n"
   },
   "outputs": [],
   "source": [
    "def bar_plot(metric,labels):\n",
    "  '''\n",
    "  Plots a bar chart for a given metrics across the given models\n",
    "  '''\n",
    "  plt.figure()\n",
    "  plt.bar(range(len(labels)), metric)\n",
    "  plt.ylim(0, 60)\n",
    "  plt.grid(axis='y')\n",
    "  plt.xticks(range(len(labels)), labels)\n",
    "  plt.xlabel(\"Model\")\n",
    "  plt.ylabel(\"Runtime(min)\")\n",
    "  #plt.savefig('/content/drive/My Drive/DMML_Project/Runtime_scaled.png', bbox_inches='tight')\n",
    "  plt.show()"
   ]
  },
  {
   "cell_type": "code",
   "execution_count": null,
   "id": "yAcz3gBSat8D",
   "metadata": {
    "colab": {
     "base_uri": "https://localhost:8080/",
     "height": 283
    },
    "id": "yAcz3gBSat8D",
    "outputId": "763d983e-7930-4459-9b45-9d7b474c1cff"
   },
   "outputs": [],
   "source": [
    "# Plot precision\n",
    "bar_plot(precision,modelnames)"
   ]
  },
  {
   "cell_type": "code",
   "execution_count": null,
   "id": "jQDNKnHccdJg",
   "metadata": {
    "colab": {
     "base_uri": "https://localhost:8080/",
     "height": 283
    },
    "id": "jQDNKnHccdJg",
    "outputId": "343edc4d-1a59-4aea-e75b-f01b8daa0832"
   },
   "outputs": [],
   "source": [
    "# plot recall\n",
    "bar_plot(recall,modelnames)"
   ]
  },
  {
   "cell_type": "code",
   "execution_count": null,
   "id": "EtrZ6Bi0csW8",
   "metadata": {
    "colab": {
     "base_uri": "https://localhost:8080/",
     "height": 283
    },
    "id": "EtrZ6Bi0csW8",
    "outputId": "5a8f81bd-0b71-4ea9-b001-c7dca88eed85"
   },
   "outputs": [],
   "source": [
    "# plot f1 score\n",
    "bar_plot(f1,modelnames)"
   ]
  },
  {
   "cell_type": "code",
   "execution_count": null,
   "id": "QXxkbpQudCTF",
   "metadata": {
    "colab": {
     "base_uri": "https://localhost:8080/",
     "height": 283
    },
    "id": "QXxkbpQudCTF",
    "outputId": "8da9d86c-bf63-4325-fb51-c5f2ff8e4314"
   },
   "outputs": [],
   "source": [
    "# plot accuracy\n",
    "bar_plot(accuracy,modelnames)"
   ]
  },
  {
   "cell_type": "code",
   "execution_count": null,
   "id": "B2MxorQReTNe",
   "metadata": {
    "colab": {
     "base_uri": "https://localhost:8080/",
     "height": 283
    },
    "id": "B2MxorQReTNe",
    "outputId": "069c0a43-7edf-4d98-929c-82ceb730b92a"
   },
   "outputs": [],
   "source": [
    "# plot runtime\n",
    "bar_plot(runtime,modelnames)"
   ]
  },
  {
   "cell_type": "markdown",
   "id": "g18IjeG8fQgo",
   "metadata": {
    "id": "g18IjeG8fQgo"
   },
   "source": [
    "### Error Analysis for CNN2"
   ]
  },
  {
   "cell_type": "code",
   "execution_count": null,
   "id": "qFGLJPIUfUO-",
   "metadata": {
    "id": "qFGLJPIUfUO-"
   },
   "outputs": [],
   "source": [
    "X_train = np.load('/content/drive/My Drive/Final_Data/After_Augmentation/X_train_aug.npy')\n",
    "X_test = np.load('/content/drive/My Drive/Final_Data/After_Augmentation/X_test_aug.npy')\n",
    "X_valid = np.load('/content/drive/My Drive/Final_Data/After_Augmentation/X_valid_aug.npy')\n",
    "y_train = np.load('/content/drive/My Drive/Final_Data/After_Augmentation/y_train_aug.npy')\n",
    "y_test = np.load('/content/drive/My Drive/Final_Data/After_Augmentation/y_test_aug.npy')\n",
    "y_valid = np.load('/content/drive/My Drive/Final_Data/After_Augmentation/y_valid_aug.npy')"
   ]
  },
  {
   "cell_type": "code",
   "execution_count": null,
   "id": "WUL1-UCtiRUt",
   "metadata": {
    "id": "WUL1-UCtiRUt"
   },
   "outputs": [],
   "source": [
    "# get mislabeled data and labels from CNN2\n",
    "temp = pd.DataFrame({\"data\":X_test.tolist(),\"real Y\":y_test.tolist(),\"Prediction\":[int(y[0]) for y in y_pred_CNN2.round().tolist()]})\n",
    "\n",
    "X_wrong = temp[temp[\"real Y\"]!=temp[\"Prediction\"]][\"data\"].values\n",
    "Y_wrong = temp[temp[\"real Y\"]!=temp[\"Prediction\"]][\"Prediction\"].values.tolist()\n",
    "Y_wrong = [\"Prediction: Fresh\" if y==0 else \"Prediction: Rotten\" for y in Y_wrong]\n"
   ]
  },
  {
   "cell_type": "code",
   "execution_count": null,
   "id": "wXxvmtfzkSby",
   "metadata": {
    "colab": {
     "base_uri": "https://localhost:8080/",
     "height": 1000
    },
    "id": "wXxvmtfzkSby",
    "outputId": "9ea00fb7-7cd5-458d-ec05-2b661829f6ac"
   },
   "outputs": [],
   "source": [
    "# plot mislabeled examples\n",
    "show_subplot(X_wrong,Y_wrong)"
   ]
  },
  {
   "cell_type": "code",
   "execution_count": null,
   "id": "yuzXsQF1tmRA",
   "metadata": {
    "id": "yuzXsQF1tmRA"
   },
   "outputs": [],
   "source": [
    "# create selection of mislabeled images\n",
    "selection = [X_wrong[1],X_wrong[3],X_wrong[5],X_wrong[9],X_wrong[34]]\n",
    "selection_labels = [Y_wrong[1],Y_wrong[3],Y_wrong[5],Y_wrong[9],Y_wrong[34]]"
   ]
  }
 ],
 "metadata": {
  "colab": {
   "collapsed_sections": [],
   "machine_shape": "hm",
   "name": "Data_Mining_Fruit_Classifier.ipynb",
   "provenance": []
  },
  "kernelspec": {
   "display_name": "Python 3 (ipykernel)",
   "language": "python",
   "name": "python3"
  },
  "language_info": {
   "codemirror_mode": {
    "name": "ipython",
    "version": 3
   },
   "file_extension": ".py",
   "mimetype": "text/x-python",
   "name": "python",
   "nbconvert_exporter": "python",
   "pygments_lexer": "ipython3",
   "version": "3.10.8"
  }
 },
 "nbformat": 4,
 "nbformat_minor": 5
}

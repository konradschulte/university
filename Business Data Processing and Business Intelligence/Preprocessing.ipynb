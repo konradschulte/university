{
 "cells": [
  {
   "cell_type": "markdown",
   "id": "8b6b9401",
   "metadata": {},
   "source": [
    "# Preprocessing"
   ]
  },
  {
   "cell_type": "code",
   "execution_count": null,
   "id": "c9360234",
   "metadata": {},
   "outputs": [],
   "source": [
    "# Import all relevant libraries\n",
    "import pandas as pd\n",
    "from tqdm import tqdm"
   ]
  },
  {
   "cell_type": "code",
   "execution_count": null,
   "id": "ea1ea922",
   "metadata": {},
   "outputs": [],
   "source": [
    "# Load the csv file and make it a dataframe\n",
    "df = pd.read_csv(\"Boliga_Webscraped.csv\", delimiter = \"\\t\")"
   ]
  },
  {
   "cell_type": "code",
   "execution_count": null,
   "id": "b9e45f71",
   "metadata": {},
   "outputs": [],
   "source": [
    "# Drop irrelevant columns and make a copy out of it\n",
    "df_copy = df.drop([\"Unnamed: 0\", \"estateId\", \"change\", \"guid\", \"estateCode\", \"groupKey\", \"canGetVR\", \"bfEnr\"], axis=1)"
   ]
  },
  {
   "cell_type": "code",
   "execution_count": null,
   "id": "569e7afd",
   "metadata": {},
   "outputs": [],
   "source": [
    "# We see we need to change the soldDate column\n",
    "# Change data type to string\n",
    "df_copy[\"soldDate\"]=df_copy[\"soldDate\"].astype(\"string\")\n",
    "# Remove the last 14 digits\n",
    "df_copy[\"soldDate\"] = df_copy[\"soldDate\"].str[:-14]"
   ]
  },
  {
   "cell_type": "code",
   "execution_count": null,
   "id": "1595ac87",
   "metadata": {},
   "outputs": [],
   "source": [
    "# We need to make a unique identifier\n",
    "id = [i+1 for i in range(len(df_copy))]\n",
    "df_copy[\"SellID\"] = id"
   ]
  },
  {
   "cell_type": "code",
   "execution_count": null,
   "id": "fc3e2317",
   "metadata": {},
   "outputs": [],
   "source": [
    "df_copy[\"ppsm\"].dtypes"
   ]
  },
  {
   "cell_type": "code",
   "execution_count": null,
   "id": "4859b1e4",
   "metadata": {},
   "outputs": [],
   "source": [
    "# Filling in null values of sqmPrice by creating our own column and removing the old column and round up to 2 decimals\n",
    "df_copy[\"ppsm\"] = df_copy[\"price\"] / df_copy[\"size\"]\n",
    "df_copy[\"ppsm\"] = df_copy['ppsm'].round(decimals = 2)\n",
    "df_copy = df_copy.drop(\"sqmPrice\", axis =1)"
   ]
  },
  {
   "cell_type": "code",
   "execution_count": null,
   "id": "ae70b56c",
   "metadata": {
    "scrolled": true
   },
   "outputs": [],
   "source": [
    "# Filling in the null values of the city\n",
    "df_copy[\"city\"].fillna(\"Tunø\", inplace = True)\n",
    "df_copy.head()"
   ]
  },
  {
   "cell_type": "code",
   "execution_count": null,
   "id": "1db785cc",
   "metadata": {},
   "outputs": [],
   "source": [
    "# Check if all null values have been removed\n",
    "df_copy.isna().sum()"
   ]
  },
  {
   "cell_type": "code",
   "execution_count": null,
   "id": "05b9814e",
   "metadata": {},
   "outputs": [],
   "source": [
    "# Put columns in a nice order\n",
    "df_copy = df_copy.iloc[:, [13,0,1,12,11,9,10,2,14,3,4,5,6,7,8]]"
   ]
  },
  {
   "cell_type": "code",
   "execution_count": null,
   "id": "a2ec6b15",
   "metadata": {},
   "outputs": [],
   "source": [
    "# Removing outliers\n",
    "# Outliers regarding size\n",
    "for row in tqdm(range(len(df_copy))):\n",
    "    if df_copy.iloc[row][\"size\"] < 20 or df_copy.iloc[row][\"size\"] > 2000 or \\\n",
    "    df_copy.iloc[row][\"ppsm\"] > 5000 or df_copy.iloc[row][\"size\"] < 100000 or \\\n",
    "    df_copy.iloc[row][\"rooms\"] > 0 or df_copy.iloc[row][\"rooms\"] < 12 or \\\n",
    "    df_copy.iloc[row][\"buildYear\"] > 2022 or df_copy.iloc[row][\"buildYear\"] < 0:\n",
    "        df_copy.drop(df_copy.index[row], inplace=True)\n"
   ]
  },
  {
   "cell_type": "code",
   "execution_count": null,
   "id": "65c8d684",
   "metadata": {},
   "outputs": [],
   "source": [
    "# Filling in the names of the property type, not the numbers\n",
    "df_copy[\"propertyType\"]=df_copy[\"propertyType\"].astype(\"string\")\n",
    "df_copy['propertyType'] = df_copy['propertyType'].replace(['1', '2', '3', '4', '6'], ['Villa', 'Terraced House', 'Condominium', 'Holiday Home','Country Property'])\n"
   ]
  },
  {
   "cell_type": "code",
   "execution_count": null,
   "id": "9d090175",
   "metadata": {},
   "outputs": [],
   "source": [
    "# Exporting the dataset to a csv file to get it into SQL\n",
    "df_copy.to_csv(\"final_dataset.csv\")"
   ]
  }
 ],
 "metadata": {
  "kernelspec": {
   "display_name": "Python 3",
   "language": "python",
   "name": "python3"
  },
  "language_info": {
   "codemirror_mode": {
    "name": "ipython",
    "version": 3
   },
   "file_extension": ".py",
   "mimetype": "text/x-python",
   "name": "python",
   "nbconvert_exporter": "python",
   "pygments_lexer": "ipython3",
   "version": "3.8.8"
  }
 },
 "nbformat": 4,
 "nbformat_minor": 5
}
